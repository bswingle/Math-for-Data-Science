{
 "cells": [
  {
   "cell_type": "code",
   "execution_count": 1,
   "id": "966230a1-de55-41de-aa33-ccebdd1a6954",
   "metadata": {},
   "outputs": [],
   "source": [
    "import math"
   ]
  },
  {
   "cell_type": "code",
   "execution_count": 2,
   "id": "852d1c65-45a0-4c0e-b9af-c10912c857b7",
   "metadata": {},
   "outputs": [],
   "source": [
    "P_A = 0.5\n",
    "P_B = 0.3\n",
    "P_C = 0.2\n",
    "P_Def_given_A = 0.03\n",
    "P_Def_given_B = 0.02\n",
    "P_Def_given_C = 0.04"
   ]
  },
  {
   "cell_type": "code",
   "execution_count": 3,
   "id": "e96ebed7-31f8-4c37-a967-4673142c83e1",
   "metadata": {},
   "outputs": [],
   "source": [
    "P_Def = (P_Def_given_A * P_A) + (P_Def_given_B * P_B) + (P_Def_given_C * P_C)"
   ]
  },
  {
   "cell_type": "code",
   "execution_count": 4,
   "id": "c252ca35-c87c-4835-9276-f0e6ff48c75b",
   "metadata": {},
   "outputs": [],
   "source": [
    "P_A_given_Def = (P_Def_given_A * P_A) / P_Def"
   ]
  },
  {
   "cell_type": "code",
   "execution_count": 5,
   "id": "4abafa30-c5be-433b-8ed2-723bedc0cc0c",
   "metadata": {},
   "outputs": [
    {
     "name": "stdout",
     "output_type": "stream",
     "text": [
      "The probability that a defective card was manufactured using Process A is 0.5172\n"
     ]
    }
   ],
   "source": [
    "print(f\"The probability that a defective card was manufactured using Process A is {P_A_given_Def:.4f}\")"
   ]
  },
  {
   "cell_type": "code",
   "execution_count": 6,
   "id": "b64fe725-3629-4361-bd27-872157c5c788",
   "metadata": {},
   "outputs": [],
   "source": [
    "P_A = 0.5\n",
    "P_B = 0.3\n",
    "P_C = 0.2\n",
    "P_Not_Def_given_A = 0.97\n",
    "P_Not_Def_given_B = 0.98\n",
    "P_Not_Def_given_C = 0.96"
   ]
  },
  {
   "cell_type": "code",
   "execution_count": 7,
   "id": "b24dd447-a9ca-47c8-ac75-6efdae7af5fb",
   "metadata": {},
   "outputs": [],
   "source": [
    "P_Not_Def = (P_Not_Def_given_A * P_A) + (P_Not_Def_given_B * P_B) + (P_Not_Def_given_C * P_C)"
   ]
  },
  {
   "cell_type": "code",
   "execution_count": 8,
   "id": "ceef0e28-9bf1-47ea-9cdf-729ee1c826dc",
   "metadata": {},
   "outputs": [],
   "source": [
    "P_C_given_Not_Def = (P_Not_Def_given_C * P_C) / P_Not_Def"
   ]
  },
  {
   "cell_type": "code",
   "execution_count": 9,
   "id": "0e653b00-9d64-431d-b5af-7f23801943ca",
   "metadata": {},
   "outputs": [
    {
     "name": "stdout",
     "output_type": "stream",
     "text": [
      "The probability that a non-defective card was manufactured using Process C is 0.1977\n"
     ]
    }
   ],
   "source": [
    "print(f\"The probability that a non-defective card was manufactured using Process C is {P_C_given_Not_Def:.4f}\")"
   ]
  },
  {
   "cell_type": "code",
   "execution_count": 10,
   "id": "f1150238-a06c-452a-9e17-14cff99ff2c0",
   "metadata": {},
   "outputs": [],
   "source": [
    "def calculate_entropy(probabilities):\n",
    "    \"\"\"\n",
    "    Calculate the entropy of a discrete probability distribution.\n",
    "    \n",
    "    Parameters:\n",
    "    probabilities (list of float): An array of probabilities p1, p2, ..., pn.\n",
    "    \n",
    "    Returns:\n",
    "    float: The entropy H(X).\n",
    "    \"\"\"\n",
    "    entropy = 0.0\n",
    "    for p in probabilities:\n",
    "        if p > 0:\n",
    "            entropy -= p * math.log2(p)\n",
    "    return entropy"
   ]
  },
  {
   "cell_type": "code",
   "execution_count": 11,
   "id": "a991111c-b936-4410-b4a8-0439b30a7195",
   "metadata": {},
   "outputs": [
    {
     "name": "stdout",
     "output_type": "stream",
     "text": [
      "Entropy: 1.8464393446710154\n"
     ]
    }
   ],
   "source": [
    "probabilities = [0.1, 0.2, 0.4, 0.3]\n",
    "entropy = calculate_entropy(probabilities)\n",
    "print(f\"Entropy: {entropy}\")"
   ]
  },
  {
   "cell_type": "code",
   "execution_count": 12,
   "id": "776fc1cd-10bb-483c-a69c-cd5f9e69dd4b",
   "metadata": {},
   "outputs": [],
   "source": [
    "probabilities_X = [0.2, 0.2, 0.2, 0.2, 0.2]\n",
    "probabilities_Y = [0.1, 0.4, 0.1, 0.3, 0.1]"
   ]
  },
  {
   "cell_type": "code",
   "execution_count": 13,
   "id": "95a2f3b7-7135-4b09-a6f8-2eb23907e2c9",
   "metadata": {},
   "outputs": [],
   "source": [
    "entropy_X = calculate_entropy(probabilities_X)\n",
    "entropy_Y = calculate_entropy(probabilities_Y)"
   ]
  },
  {
   "cell_type": "code",
   "execution_count": 14,
   "id": "2e895d95-2a86-4cb3-b5c6-e1796715e7a7",
   "metadata": {},
   "outputs": [
    {
     "name": "stdout",
     "output_type": "stream",
     "text": [
      "Entropy of X: 2.321928094887362\n",
      "Entropy of Y: 2.046439344671015\n"
     ]
    }
   ],
   "source": [
    "print(f\"Entropy of X: {entropy_X}\")\n",
    "print(f\"Entropy of Y: {entropy_Y}\")"
   ]
  },
  {
   "cell_type": "code",
   "execution_count": null,
   "id": "55c228fb-7e7d-4e49-9e6b-e45378172c02",
   "metadata": {},
   "outputs": [],
   "source": []
  }
 ],
 "metadata": {
  "kernelspec": {
   "display_name": "Python 3 (ipykernel)",
   "language": "python",
   "name": "python3"
  },
  "language_info": {
   "codemirror_mode": {
    "name": "ipython",
    "version": 3
   },
   "file_extension": ".py",
   "mimetype": "text/x-python",
   "name": "python",
   "nbconvert_exporter": "python",
   "pygments_lexer": "ipython3",
   "version": "3.11.7"
  }
 },
 "nbformat": 4,
 "nbformat_minor": 5
}
