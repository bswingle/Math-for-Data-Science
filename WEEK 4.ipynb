{
 "cells": [
  {
   "cell_type": "code",
   "execution_count": 1,
   "id": "22c6ac0e-1b1b-4a42-acb5-b9114e36b3c7",
   "metadata": {},
   "outputs": [],
   "source": [
    "import numpy as np\n",
    "import sympy as sp"
   ]
  },
  {
   "cell_type": "code",
   "execution_count": 2,
   "id": "5e86f897-766c-4b65-b94e-0aedc586f720",
   "metadata": {},
   "outputs": [],
   "source": [
    "def f(x):\n",
    "    return (2*x**3-4*x+1)"
   ]
  },
  {
   "cell_type": "code",
   "execution_count": 3,
   "id": "e63d66bb-5582-422e-92a3-16bde119388a",
   "metadata": {},
   "outputs": [],
   "source": [
    "x_left = np.linspace(2, 2.5, 3)\n",
    "x_right= np.linspace(3, 3.5, 4)\n",
    "y_left = [f(x) for x in x_left]\n",
    "y_right = [f(x) for x in x_right]"
   ]
  },
  {
   "cell_type": "code",
   "execution_count": 4,
   "id": "61e92af2-a050-47e1-bb5d-924c4eb48526",
   "metadata": {},
   "outputs": [
    {
     "name": "stdout",
     "output_type": "stream",
     "text": [
      "f(x) as x approaches 3 from the left: 22.25\n",
      "f(x) as x approaches 3 from the right: 43.0\n"
     ]
    }
   ],
   "source": [
    "print(\"f(x) as x approaches 3 from the left:\", y_left[-1])\n",
    "print(\"f(x) as x approaches 3 from the right:\", y_right[0])"
   ]
  },
  {
   "cell_type": "code",
   "execution_count": 5,
   "id": "51bd3a82-783f-4029-963c-6622be6a3df2",
   "metadata": {},
   "outputs": [],
   "source": [
    "def g(x):\n",
    "    return np.exp(x) - 1/x"
   ]
  },
  {
   "cell_type": "code",
   "execution_count": 6,
   "id": "318e177c-5f9f-48be-adf7-d71d6e27e00d",
   "metadata": {},
   "outputs": [],
   "source": [
    "x_values_left = np.linspace(-0.5, 0, 100)\n",
    "x_values_right = np.linspace(0.001, 0.5, 100)\n",
    "x_values_left = x_values_left[x_values_left != 0]\n",
    "x_values_right = x_values_right[x_values_right != 0]\n",
    "y_values_left = g(x_values_left)\n",
    "y_values_right = g(x_values_right)"
   ]
  },
  {
   "cell_type": "code",
   "execution_count": 7,
   "id": "cabbec7b-3e28-4725-b688-ec4c0fb4669c",
   "metadata": {},
   "outputs": [
    {
     "name": "stdout",
     "output_type": "stream",
     "text": [
      "g(x) as x approaches 0 from the left: 198.99496222730707\n",
      "g(x) as x approaches 0 from the right: -998.9989994998333\n"
     ]
    }
   ],
   "source": [
    "print(\"g(x) as x approaches 0 from the left:\", y_values_left[-1])\n",
    "print(\"g(x) as x approaches 0 from the right:\", y_values_right[0])"
   ]
  },
  {
   "cell_type": "code",
   "execution_count": 8,
   "id": "9fc22c33-a468-4f00-87c4-f195aa4bd180",
   "metadata": {},
   "outputs": [],
   "source": [
    "def average_rate_of_change(func, a, b):\n",
    "    fa = func(a)\n",
    "    fb = func(b)\n",
    "    average_rate = (fb - fa) / (b - a)\n",
    "    return average_rate"
   ]
  },
  {
   "cell_type": "code",
   "execution_count": 9,
   "id": "ade82628-f2a4-4b29-8b27-e21fd648272b",
   "metadata": {},
   "outputs": [],
   "source": [
    "def f(x):\n",
    "    return 3 * x**2\n",
    "a = 1\n",
    "b = 2\n",
    "average_rate = average_rate_of_change(f, a, b)"
   ]
  },
  {
   "cell_type": "code",
   "execution_count": 10,
   "id": "4b3160e7-948c-49f4-b478-3937eb07063a",
   "metadata": {},
   "outputs": [
    {
     "name": "stdout",
     "output_type": "stream",
     "text": [
      "Average rate of change: 9.0\n"
     ]
    }
   ],
   "source": [
    "print(\"Average rate of change:\", average_rate)"
   ]
  },
  {
   "cell_type": "code",
   "execution_count": 11,
   "id": "87f9581c-72a5-4931-b2b5-38b8bda7dd94",
   "metadata": {},
   "outputs": [],
   "source": [
    "def f(x):\n",
    "    return 4.9*x**2\n",
    "a = 5\n",
    "b = 6\n",
    "average_rate = average_rate_of_change(f, a, b)"
   ]
  },
  {
   "cell_type": "code",
   "execution_count": 12,
   "id": "70ee1955-2b33-4be9-a997-4bad3f3a089d",
   "metadata": {},
   "outputs": [
    {
     "name": "stdout",
     "output_type": "stream",
     "text": [
      "Average rate of change: 53.89999999999999\n"
     ]
    }
   ],
   "source": [
    "print(\"Average rate of change:\", average_rate)"
   ]
  },
  {
   "cell_type": "code",
   "execution_count": 13,
   "id": "d0078a84-1bc4-4469-86de-e81e7803af1e",
   "metadata": {},
   "outputs": [],
   "source": [
    "def f(x):\n",
    "    return 4.9*x**2\n",
    "a = 5\n",
    "b = 5.5\n",
    "average_rate = average_rate_of_change(f, a, b)"
   ]
  },
  {
   "cell_type": "code",
   "execution_count": 14,
   "id": "6851bc36-b465-4552-ac54-de3b0a32ed45",
   "metadata": {},
   "outputs": [
    {
     "name": "stdout",
     "output_type": "stream",
     "text": [
      "Average rate of change: 51.45000000000002\n"
     ]
    }
   ],
   "source": [
    "print(\"Average rate of change:\", average_rate)"
   ]
  },
  {
   "cell_type": "code",
   "execution_count": 15,
   "id": "5cbfd08a-0507-4556-a1fb-a0d80a49e8ed",
   "metadata": {},
   "outputs": [],
   "source": [
    "def f(x):\n",
    "    return 4.9*x**2\n",
    "a = 5\n",
    "b = 5.1\n",
    "average_rate = average_rate_of_change(f, a, b)"
   ]
  },
  {
   "cell_type": "code",
   "execution_count": 16,
   "id": "07cdd321-efb6-442c-ab6c-95a1498e3860",
   "metadata": {},
   "outputs": [
    {
     "name": "stdout",
     "output_type": "stream",
     "text": [
      "Average rate of change: 49.490000000000016\n"
     ]
    }
   ],
   "source": [
    "print(\"Average rate of change:\", average_rate)"
   ]
  },
  {
   "cell_type": "code",
   "execution_count": 17,
   "id": "27a7a66e-5a8e-45d8-8766-71cb7fee9546",
   "metadata": {},
   "outputs": [],
   "source": [
    "def f(x):\n",
    "    return 4.9*x**2\n",
    "a = 4.99\n",
    "b = 5\n",
    "average_rate = average_rate_of_change(f, a, b)"
   ]
  },
  {
   "cell_type": "code",
   "execution_count": 18,
   "id": "9288d7f2-ef50-47e4-9430-a97e47ed004a",
   "metadata": {},
   "outputs": [
    {
     "name": "stdout",
     "output_type": "stream",
     "text": [
      "Average rate of change: 48.95100000000061\n"
     ]
    }
   ],
   "source": [
    "print(\"Average rate of change:\", average_rate)"
   ]
  },
  {
   "cell_type": "code",
   "execution_count": 19,
   "id": "68581417-8f19-4b06-8660-50eb3e967a28",
   "metadata": {},
   "outputs": [],
   "source": [
    "def f(x):\n",
    "    return 4.9*x**2"
   ]
  },
  {
   "cell_type": "code",
   "execution_count": 20,
   "id": "7a85a95d-1102-4440-b425-c8c1a497072f",
   "metadata": {},
   "outputs": [],
   "source": [
    "def v(t):\n",
    "    return 9.8 * t\n",
    "instantaneous_speed = v(5)"
   ]
  },
  {
   "cell_type": "code",
   "execution_count": 21,
   "id": "74f6b34f-46a0-47ce-9eb2-5afc88f0d41f",
   "metadata": {},
   "outputs": [
    {
     "name": "stdout",
     "output_type": "stream",
     "text": [
      "Instantaneous speed at t = 5 seconds: 49.0 m/s\n"
     ]
    }
   ],
   "source": [
    "print(\"Instantaneous speed at t = 5 seconds:\", instantaneous_speed, \"m/s\")"
   ]
  },
  {
   "cell_type": "code",
   "execution_count": 22,
   "id": "6bc06479-c80c-4296-99ce-f90b5e31b5e6",
   "metadata": {},
   "outputs": [],
   "source": [
    "t = sp.Symbol('t')\n",
    "f = 4.9 * t**2\n",
    "f_prime = sp.diff(f, t)"
   ]
  },
  {
   "cell_type": "code",
   "execution_count": 23,
   "id": "2d1efba1-7004-4468-a9d4-c384b48932d0",
   "metadata": {},
   "outputs": [
    {
     "name": "stdout",
     "output_type": "stream",
     "text": [
      "The derivative of f(t) is: 9.8*t\n"
     ]
    }
   ],
   "source": [
    "print(\"The derivative of f(t) is:\", f_prime)"
   ]
  },
  {
   "cell_type": "code",
   "execution_count": 24,
   "id": "1e34c1de-7e33-4402-9e0d-77449f126d5f",
   "metadata": {},
   "outputs": [],
   "source": [
    "C = 8\n",
    "Y = 5\n",
    "P = 16000 + 2400*C - 1800*Y"
   ]
  },
  {
   "cell_type": "code",
   "execution_count": 25,
   "id": "b110ed0c-8960-4de4-8074-08493ca2d3ef",
   "metadata": {},
   "outputs": [
    {
     "name": "stdout",
     "output_type": "stream",
     "text": [
      "Predicted selling price of the car: $ 26200\n"
     ]
    }
   ],
   "source": [
    "print(\"Predicted selling price of the car: $\", P)"
   ]
  },
  {
   "cell_type": "code",
   "execution_count": 26,
   "id": "02284307-af10-4a3c-9400-5197eb196094",
   "metadata": {},
   "outputs": [],
   "source": [
    "C, Y = sp.symbols('C Y')\n",
    "P = 16000 + 2400 * C - 1800 * Y\n",
    "partial_P_partial_C = sp.diff(P, C)"
   ]
  },
  {
   "cell_type": "code",
   "execution_count": 27,
   "id": "a69cf443-d69a-41db-aa90-09d02b223510",
   "metadata": {},
   "outputs": [
    {
     "name": "stdout",
     "output_type": "stream",
     "text": [
      "Partial derivative of P with respect to C: 2400\n"
     ]
    }
   ],
   "source": [
    "print(\"Partial derivative of P with respect to C:\", partial_P_partial_C)"
   ]
  },
  {
   "cell_type": "code",
   "execution_count": 30,
   "id": "17e5ffe6-203e-4079-9c6a-66a5b4d63869",
   "metadata": {},
   "outputs": [],
   "source": [
    "C, Y = sp.symbols('C Y')\n",
    "P = 16000 + 2400 * C - 1800 * Y\n",
    "partial_P_partial_Y = sp.diff(P, Y)"
   ]
  },
  {
   "cell_type": "code",
   "execution_count": 31,
   "id": "0a78a61b-3ce1-472c-9d30-e5dafdd7f6de",
   "metadata": {},
   "outputs": [
    {
     "name": "stdout",
     "output_type": "stream",
     "text": [
      "Partial derivative of P with respect to Y: -1800\n"
     ]
    }
   ],
   "source": [
    "print(\"Partial derivative of P with respect to Y:\", partial_P_partial_Y)"
   ]
  },
  {
   "cell_type": "code",
   "execution_count": null,
   "id": "d1630ac6-f521-48a2-a55b-f512119ed052",
   "metadata": {},
   "outputs": [],
   "source": []
  }
 ],
 "metadata": {
  "kernelspec": {
   "display_name": "Python 3 (ipykernel)",
   "language": "python",
   "name": "python3"
  },
  "language_info": {
   "codemirror_mode": {
    "name": "ipython",
    "version": 3
   },
   "file_extension": ".py",
   "mimetype": "text/x-python",
   "name": "python",
   "nbconvert_exporter": "python",
   "pygments_lexer": "ipython3",
   "version": "3.11.7"
  }
 },
 "nbformat": 4,
 "nbformat_minor": 5
}
