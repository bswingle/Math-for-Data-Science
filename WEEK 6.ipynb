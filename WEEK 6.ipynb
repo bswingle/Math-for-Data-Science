{
 "cells": [
  {
   "cell_type": "code",
   "execution_count": 1,
   "id": "e44b90df-27c8-47bc-8866-ebb5d292b20a",
   "metadata": {},
   "outputs": [],
   "source": [
    "import numpy as np\n",
    "import csv\n",
    "import pandas as pd"
   ]
  },
  {
   "cell_type": "code",
   "execution_count": 2,
   "id": "1a11bacc-f30a-466e-8fe2-2d4cd19b6f40",
   "metadata": {},
   "outputs": [],
   "source": [
    "file_path = r'C:\\Users\\icyde\\OneDrive - Bellevue University\\YEAR 2\\SEMESTER 1\\MATH\\WEEK 6\\calif_housing_data.csv'"
   ]
  },
  {
   "cell_type": "code",
   "execution_count": 3,
   "id": "f68e1e85-e820-403b-9a0c-6e8014b37914",
   "metadata": {},
   "outputs": [],
   "source": [
    "data = pd.read_csv(file_path)"
   ]
  },
  {
   "cell_type": "code",
   "execution_count": 4,
   "id": "1f3ef48c-9a27-4c9b-af4b-4946ade3ef9d",
   "metadata": {},
   "outputs": [],
   "source": [
    "def normalize_vector(vector):\n",
    "    min_val = min(vector)\n",
    "    max_val = max(vector)\n",
    "    normalized_vector = [(x - min_val) / (max_val - min_val) for x in vector]\n",
    "    return normalized_vector"
   ]
  },
  {
   "cell_type": "code",
   "execution_count": 5,
   "id": "cd186ed9-b525-4ee9-b86f-8cd56577af2c",
   "metadata": {},
   "outputs": [
    {
     "name": "stdout",
     "output_type": "stream",
     "text": [
      "[0.0, 0.25, 0.5, 0.75, 1.0]\n"
     ]
    }
   ],
   "source": [
    "vector = [1, 2, 3, 4, 5]\n",
    "normalized_vector = normalize_vector(vector)\n",
    "print(normalized_vector)"
   ]
  },
  {
   "cell_type": "code",
   "execution_count": 6,
   "id": "ca06d5d5-536e-4e5c-a213-e93b901b990a",
   "metadata": {},
   "outputs": [],
   "source": [
    "def standardize_vector(vector):\n",
    "    mean = np.mean(vector)\n",
    "    std_dev = np.std(vector)\n",
    "    standardized_vector = [(x - mean) / std_dev for x in vector]\n",
    "    return standardized_vector"
   ]
  },
  {
   "cell_type": "code",
   "execution_count": 7,
   "id": "2a898a47-dbff-471b-b041-ab812cfe5572",
   "metadata": {},
   "outputs": [
    {
     "name": "stdout",
     "output_type": "stream",
     "text": [
      "[-1.414213562373095, -0.7071067811865475, 0.0, 0.7071067811865475, 1.414213562373095]\n"
     ]
    }
   ],
   "source": [
    "vector = [1, 2, 3, 4, 5]\n",
    "standardized_vector = standardize_vector(vector)\n",
    "print(standardized_vector)"
   ]
  },
  {
   "cell_type": "code",
   "execution_count": 8,
   "id": "c73d6dc2-20d2-4cf8-9ab5-f149b573f3db",
   "metadata": {},
   "outputs": [
    {
     "name": "stdout",
     "output_type": "stream",
     "text": [
      "Number of rows in the dataset: 20640\n"
     ]
    }
   ],
   "source": [
    "num_rows = data.shape[0]\n",
    "\n",
    "print(\"Number of rows in the dataset:\", num_rows)"
   ]
  },
  {
   "cell_type": "code",
   "execution_count": 9,
   "id": "ee63b5dc-71e6-4fb9-b34c-45987e5825da",
   "metadata": {},
   "outputs": [],
   "source": [
    "target_vector = data['median_house_value']"
   ]
  },
  {
   "cell_type": "code",
   "execution_count": 10,
   "id": "1304c646-8939-42e8-b4cd-151d224bcfad",
   "metadata": {},
   "outputs": [
    {
     "name": "stdout",
     "output_type": "stream",
     "text": [
      "Target vector (median_house_value):\n",
      "0        452600.0\n",
      "1        358500.0\n",
      "2        352100.0\n",
      "3        341300.0\n",
      "4        342200.0\n",
      "           ...   \n",
      "20635     78100.0\n",
      "20636     77100.0\n",
      "20637     92300.0\n",
      "20638     84700.0\n",
      "20639     89400.0\n",
      "Name: median_house_value, Length: 20640, dtype: float64\n"
     ]
    }
   ],
   "source": [
    "print(\"Target vector (median_house_value):\")\n",
    "print(target_vector)"
   ]
  },
  {
   "cell_type": "code",
   "execution_count": 11,
   "id": "00698734-3b8e-4592-949a-c3dd0bcae43a",
   "metadata": {},
   "outputs": [],
   "source": [
    "data['avg_bedrooms_per_household'] = data['total_bedrooms'] / data['households']"
   ]
  },
  {
   "cell_type": "code",
   "execution_count": 12,
   "id": "b370bdee-9676-45ae-9560-d22aa09a10aa",
   "metadata": {},
   "outputs": [
    {
     "name": "stdout",
     "output_type": "stream",
     "text": [
      "New feature 'avg_bedrooms_per_household':\n",
      "0        1.023810\n",
      "1        0.971880\n",
      "2        1.073446\n",
      "3        1.073059\n",
      "4        1.081081\n",
      "           ...   \n",
      "20635    1.133333\n",
      "20636    1.315789\n",
      "20637    1.120092\n",
      "20638    1.171920\n",
      "20639    1.162264\n",
      "Name: avg_bedrooms_per_household, Length: 20640, dtype: float64\n"
     ]
    }
   ],
   "source": [
    "print(\"New feature 'avg_bedrooms_per_household':\")\n",
    "print(data['avg_bedrooms_per_household'])"
   ]
  },
  {
   "cell_type": "code",
   "execution_count": 13,
   "id": "a68dceb6-539e-4e2b-8bba-1bfd8e8965ec",
   "metadata": {},
   "outputs": [],
   "source": [
    "selected_features = data[['housing_median_age', 'median_income', 'avg_bedrooms_per_household']]"
   ]
  },
  {
   "cell_type": "code",
   "execution_count": 14,
   "id": "3418292e-7bd4-4f0b-a3d7-abb9c8d89f6d",
   "metadata": {},
   "outputs": [
    {
     "name": "stdout",
     "output_type": "stream",
     "text": [
      "New DataFrame with selected features:\n",
      "       housing_median_age  median_income  avg_bedrooms_per_household\n",
      "0                      41         8.3252                    1.023810\n",
      "1                      21         8.3014                    0.971880\n",
      "2                      52         7.2574                    1.073446\n",
      "3                      52         5.6431                    1.073059\n",
      "4                      52         3.8462                    1.081081\n",
      "...                   ...            ...                         ...\n",
      "20635                  25         1.5603                    1.133333\n",
      "20636                  18         2.5568                    1.315789\n",
      "20637                  17         1.7000                    1.120092\n",
      "20638                  18         1.8672                    1.171920\n",
      "20639                  16         2.3886                    1.162264\n",
      "\n",
      "[20640 rows x 3 columns]\n"
     ]
    }
   ],
   "source": [
    "print(\"New DataFrame with selected features:\")\n",
    "print(selected_features)"
   ]
  },
  {
   "cell_type": "code",
   "execution_count": 15,
   "id": "7fccc465-4183-49f2-b1a6-2b0615d4b9de",
   "metadata": {},
   "outputs": [],
   "source": [
    "selected_features = data[['housing_median_age', 'median_income', 'avg_bedrooms_per_household']]"
   ]
  },
  {
   "cell_type": "code",
   "execution_count": 16,
   "id": "214868c1-3fbe-4b40-ade6-12284f509cf8",
   "metadata": {},
   "outputs": [],
   "source": [
    "mean_values = selected_features.mean()\n",
    "std_dev_values = selected_features.std()"
   ]
  },
  {
   "cell_type": "code",
   "execution_count": 17,
   "id": "af747ae7-f300-47fa-93a8-66cff3d3e863",
   "metadata": {},
   "outputs": [],
   "source": [
    "standardized_features = (selected_features - mean_values) / std_dev_values"
   ]
  },
  {
   "cell_type": "code",
   "execution_count": 18,
   "id": "92b7aba3-33bd-4ac1-b6a3-778bbd7d28b1",
   "metadata": {},
   "outputs": [
    {
     "name": "stdout",
     "output_type": "stream",
     "text": [
      "Standardized features:\n",
      "       housing_median_age  median_income  avg_bedrooms_per_household\n",
      "0                0.982119       2.344709                   -0.153859\n",
      "1               -0.607004       2.332181                   -0.262930\n",
      "2                1.856137       1.782656                   -0.049603\n",
      "3                1.856137       0.932945                   -0.050416\n",
      "4                1.856137      -0.012881                   -0.033567\n",
      "...                   ...            ...                         ...\n",
      "20635           -0.289180      -1.216099                    0.076183\n",
      "20636           -0.845373      -0.691576                    0.459410\n",
      "20637           -0.924829      -1.142566                    0.048372\n",
      "20638           -0.845373      -1.054557                    0.157229\n",
      "20639           -1.004285      -0.780111                    0.136949\n",
      "\n",
      "[20640 rows x 3 columns]\n"
     ]
    }
   ],
   "source": [
    "print(\"Standardized features:\")\n",
    "print(standardized_features)"
   ]
  }
 ],
 "metadata": {
  "kernelspec": {
   "display_name": "Python 3 (ipykernel)",
   "language": "python",
   "name": "python3"
  },
  "language_info": {
   "codemirror_mode": {
    "name": "ipython",
    "version": 3
   },
   "file_extension": ".py",
   "mimetype": "text/x-python",
   "name": "python",
   "nbconvert_exporter": "python",
   "pygments_lexer": "ipython3",
   "version": "3.11.7"
  }
 },
 "nbformat": 4,
 "nbformat_minor": 5
}
