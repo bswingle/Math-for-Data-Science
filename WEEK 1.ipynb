{
 "cells": [
  {
   "cell_type": "code",
   "execution_count": 1,
   "id": "4e7291ad-b163-47c3-9be4-cdfaa6d36d3f",
   "metadata": {},
   "outputs": [],
   "source": [
    "import pandas as pd"
   ]
  },
  {
   "cell_type": "code",
   "execution_count": 2,
   "id": "e0b0f2e0-45eb-4160-80c8-3cd220ce6dd5",
   "metadata": {},
   "outputs": [],
   "source": [
    "import numpy as np"
   ]
  },
  {
   "cell_type": "code",
   "execution_count": 3,
   "id": "2b85e0ff-cb69-4ff2-b65c-a798bf7c439a",
   "metadata": {},
   "outputs": [],
   "source": [
    "import openpyxl"
   ]
  },
  {
   "cell_type": "code",
   "execution_count": 4,
   "id": "e9c569db-c519-4b47-ad9c-a970c5288a8f",
   "metadata": {},
   "outputs": [],
   "source": [
    "file_path = r'C:\\Users\\icyde\\OneDrive - Bellevue University\\YEAR 2\\SEMESTER 1\\MATH\\WEEK 1\\housing_data.xlsx'"
   ]
  },
  {
   "cell_type": "code",
   "execution_count": 5,
   "id": "23f0ad9e-433f-4977-bbdc-bb1420b002b6",
   "metadata": {},
   "outputs": [],
   "source": [
    "wb = openpyxl.load_workbook(file_path)"
   ]
  },
  {
   "cell_type": "code",
   "execution_count": 6,
   "id": "d7b89af7-678d-4ea7-bb14-5757fda24778",
   "metadata": {},
   "outputs": [],
   "source": [
    "def rmse(actual, predicted):\n",
    "   actual = np.array(actual)\n",
    "   predicted = np.array(predicted)\n",
    "   return np.sqrt(np.mean((actual - predicted) ** 2))"
   ]
  },
  {
   "cell_type": "code",
   "execution_count": 7,
   "id": "bb60a348-4136-4dff-b9bb-49646f93ed2a",
   "metadata": {},
   "outputs": [],
   "source": [
    "actual_values = [3, 5, 7, 9, 11]"
   ]
  },
  {
   "cell_type": "code",
   "execution_count": 8,
   "id": "f2315f3f-5b4c-45fa-9025-c7cefcf72919",
   "metadata": {},
   "outputs": [],
   "source": [
    "predicted_values = [2, 4, 6, 8, 10]"
   ]
  },
  {
   "cell_type": "code",
   "execution_count": 9,
   "id": "432f1d3e-3c32-4f17-9839-29bc7f47db87",
   "metadata": {},
   "outputs": [
    {
     "name": "stdout",
     "output_type": "stream",
     "text": [
      "RMSE: 1.0\n"
     ]
    }
   ],
   "source": [
    "print(\"RMSE:\", rmse(actual_values, predicted_values))"
   ]
  },
  {
   "cell_type": "code",
   "execution_count": 10,
   "id": "a0328a85-947e-4a68-b072-f419715d795c",
   "metadata": {},
   "outputs": [],
   "source": [
    "df = pd.read_excel(file_path)"
   ]
  },
  {
   "cell_type": "code",
   "execution_count": 11,
   "id": "8a398a2b-491a-4376-b24d-c92c4ab28c3a",
   "metadata": {},
   "outputs": [],
   "source": [
    "actual_values = df['sale_price']"
   ]
  },
  {
   "cell_type": "code",
   "execution_count": 12,
   "id": "c6bc511d-baf4-4b4c-bd5d-e427df6a6006",
   "metadata": {},
   "outputs": [],
   "source": [
    "predicted_values = df['sale_price_pred']"
   ]
  },
  {
   "cell_type": "code",
   "execution_count": 13,
   "id": "8fd52261-3a23-4df7-b237-c8c4f29d9df6",
   "metadata": {},
   "outputs": [],
   "source": [
    "rmse_value = rmse(actual_values, predicted_values)"
   ]
  },
  {
   "cell_type": "code",
   "execution_count": 14,
   "id": "73b12297-3803-4c78-9cf1-266e820a7833",
   "metadata": {},
   "outputs": [
    {
     "name": "stdout",
     "output_type": "stream",
     "text": [
      "RMSE: 55064.0688338987\n"
     ]
    }
   ],
   "source": [
    "print(\"RMSE:\", rmse_value)"
   ]
  },
  {
   "cell_type": "code",
   "execution_count": 15,
   "id": "3d2fc63a-2523-4436-9e13-a4f680271724",
   "metadata": {},
   "outputs": [],
   "source": [
    "def mae(actual, predicted):\n",
    "    actual = np.array(actual)\n",
    "    predicted = np.array(predicted)\n",
    "    return np.mean(np.abs(actual - predicted))"
   ]
  },
  {
   "cell_type": "code",
   "execution_count": 16,
   "id": "74c6e5cc-4325-45e4-9daa-03ba53f648a9",
   "metadata": {},
   "outputs": [],
   "source": [
    "actual_values = [3, 5, 7, 9, 11]"
   ]
  },
  {
   "cell_type": "code",
   "execution_count": 17,
   "id": "d57ae8bc-16c1-43ec-b53b-99d07dd85579",
   "metadata": {},
   "outputs": [],
   "source": [
    "predicted_values = [2, 4, 6, 8, 10]"
   ]
  },
  {
   "cell_type": "code",
   "execution_count": 18,
   "id": "ead7501d-5e10-4cbb-830d-9732bb303a07",
   "metadata": {},
   "outputs": [],
   "source": [
    "mae_value = mae(actual_values, predicted_values)"
   ]
  },
  {
   "cell_type": "code",
   "execution_count": 19,
   "id": "9a98a425-0ac6-4531-a87a-c66dcfa75795",
   "metadata": {},
   "outputs": [
    {
     "name": "stdout",
     "output_type": "stream",
     "text": [
      "MAE: 1.0\n"
     ]
    }
   ],
   "source": [
    "print(\"MAE:\", mae_value)\n"
   ]
  },
  {
   "cell_type": "code",
   "execution_count": 20,
   "id": "dbb7d569-4e2c-4a8d-9631-69ce7084a384",
   "metadata": {},
   "outputs": [],
   "source": [
    "df = pd.read_excel(file_path)"
   ]
  },
  {
   "cell_type": "code",
   "execution_count": 21,
   "id": "d9267b5a-b89c-4321-a038-775553c653ad",
   "metadata": {},
   "outputs": [],
   "source": [
    "actual_values = df['sale_price']"
   ]
  },
  {
   "cell_type": "code",
   "execution_count": 22,
   "id": "619fd4ca-6e9b-4303-95d5-1e6a9d02376f",
   "metadata": {},
   "outputs": [],
   "source": [
    "predicted_values = df['sale_price_pred']"
   ]
  },
  {
   "cell_type": "code",
   "execution_count": 23,
   "id": "91613ffc-357e-4bcb-981d-0bca29382af1",
   "metadata": {},
   "outputs": [],
   "source": [
    "mae_value = mae(actual_values, predicted_values)"
   ]
  },
  {
   "cell_type": "code",
   "execution_count": 24,
   "id": "802fd500-96ef-4a7b-b2e5-0e19ebc8bc66",
   "metadata": {},
   "outputs": [
    {
     "name": "stdout",
     "output_type": "stream",
     "text": [
      "MAE: 37438.68916270548\n"
     ]
    }
   ],
   "source": [
    "print(\"MAE:\", mae_value)"
   ]
  },
  {
   "cell_type": "code",
   "execution_count": 25,
   "id": "f40673b9-ebea-45e0-b014-1758b268bb38",
   "metadata": {},
   "outputs": [],
   "source": [
    "file_path = r'C:\\Users\\icyde\\OneDrive - Bellevue University\\YEAR 2\\SEMESTER 1\\MATH\\WEEK 1\\mushroom_data.xlsx'\n"
   ]
  },
  {
   "cell_type": "code",
   "execution_count": 26,
   "id": "f35ec3c2-59f8-4db9-b416-4f91adbd349b",
   "metadata": {},
   "outputs": [],
   "source": [
    "def prediction_accuracy(actual, predicted):\n",
    "    actual = np.array(actual)\n",
    "    predicted = np.array(predicted)\n",
    "    return (np.sum(actual == predicted) / len(actual)) * 100"
   ]
  },
  {
   "cell_type": "code",
   "execution_count": 27,
   "id": "dea28795-f487-4061-b1a6-35beb6039e88",
   "metadata": {},
   "outputs": [],
   "source": [
    "actual_values = [1, 0, 1, 0, 1]"
   ]
  },
  {
   "cell_type": "code",
   "execution_count": 28,
   "id": "5dcfd735-af24-4acb-a30f-a81424907ec1",
   "metadata": {},
   "outputs": [],
   "source": [
    "predicted_values = [1, 1, 0, 0, 1]"
   ]
  },
  {
   "cell_type": "code",
   "execution_count": 29,
   "id": "ac924a04-ba22-4593-8b1d-2c8413d7b497",
   "metadata": {},
   "outputs": [],
   "source": [
    "accuracy = prediction_accuracy(actual_values, predicted_values)"
   ]
  },
  {
   "cell_type": "code",
   "execution_count": 30,
   "id": "be0387be-dd07-48f4-9a1b-a9da814884fb",
   "metadata": {},
   "outputs": [
    {
     "name": "stdout",
     "output_type": "stream",
     "text": [
      "Prediction Accuracy: 60.0 %\n"
     ]
    }
   ],
   "source": [
    "print(\"Prediction Accuracy:\", accuracy, \"%\")"
   ]
  },
  {
   "cell_type": "code",
   "execution_count": 31,
   "id": "4a66e647-54de-4fd7-b3a0-0acf9832cd02",
   "metadata": {},
   "outputs": [],
   "source": [
    "df = pd.read_excel(file_path)"
   ]
  },
  {
   "cell_type": "code",
   "execution_count": 32,
   "id": "86724e93-b636-4ba3-956a-aa33b6fdc28b",
   "metadata": {},
   "outputs": [],
   "source": [
    "actual_values = df['actual']"
   ]
  },
  {
   "cell_type": "code",
   "execution_count": 33,
   "id": "f81f707d-466c-4046-b550-a054dca787c2",
   "metadata": {},
   "outputs": [],
   "source": [
    "predicted_values = df['predicted']"
   ]
  },
  {
   "cell_type": "code",
   "execution_count": 34,
   "id": "2948481c-8ac2-4d70-a1c5-f96c3259858b",
   "metadata": {},
   "outputs": [],
   "source": [
    "accuracy = prediction_accuracy(actual_values, predicted_values)"
   ]
  },
  {
   "cell_type": "code",
   "execution_count": 35,
   "id": "98053825-19e7-404b-9594-9f43930e161a",
   "metadata": {},
   "outputs": [
    {
     "name": "stdout",
     "output_type": "stream",
     "text": [
      "Prediction Accuracy: 84.71196454948301 %\n"
     ]
    }
   ],
   "source": [
    "print(\"Prediction Accuracy:\", accuracy, \"%\")"
   ]
  },
  {
   "cell_type": "code",
   "execution_count": 36,
   "id": "6ab451dc-f8f7-45ca-b0bf-fdbbe03abd7e",
   "metadata": {},
   "outputs": [],
   "source": [
    "import matplotlib.pyplot as plt"
   ]
  },
  {
   "cell_type": "code",
   "execution_count": 37,
   "id": "8beb6010-25da-4af2-b70a-ec59bb6b8f01",
   "metadata": {},
   "outputs": [],
   "source": [
    "def f(p):\n",
    "    return 0.005*p**6 - 0.27*p**5 + 5.998*p**4 - 69.919*p**3 + 449.17*p**2 - 1499.7*p + 2028"
   ]
  },
  {
   "cell_type": "code",
   "execution_count": 38,
   "id": "c3b50bf4-5152-42a8-84c2-b9c50b2b557d",
   "metadata": {},
   "outputs": [],
   "source": [
    "p_values = np.linspace(-10, 30, 400)"
   ]
  },
  {
   "cell_type": "code",
   "execution_count": 39,
   "id": "5286ee39-b3e6-488d-9a6e-102334f36d90",
   "metadata": {},
   "outputs": [],
   "source": [
    "f_values = f(p_values)"
   ]
  },
  {
   "cell_type": "code",
   "execution_count": 40,
   "id": "5942e675-6ebc-4884-80a6-73b71776c45c",
   "metadata": {},
   "outputs": [
    {
     "data": {
      "image/png": "[encoded data removed]",
      "text/plain": [
       "<Figure size 640x480 with 1 Axes>"
      ]
     },
     "metadata": {},
     "output_type": "display_data"
    }
   ],
   "source": [
    "plt.plot(p_values, f_values, label='f(p) = 0.005p^6 - 0.27p^5 + 5.998p^4 - 69.919p^3 + 449.17p^2 - 1499.7p + 2028')\n",
    "plt.xlabel('p')\n",
    "plt.ylabel('f(p)')\n",
    "plt.title('Plot of the Function f(p)')\n",
    "plt.legend()\n",
    "plt.grid(True)\n",
    "plt.show()"
   ]
  },
  {
   "cell_type": "code",
   "execution_count": null,
   "id": "90a10adc-3deb-4dd5-b092-c6ce964ddd13",
   "metadata": {},
   "outputs": [],
   "source": []
  }
 ],
 "metadata": {
  "kernelspec": {
   "display_name": "Python 3 (ipykernel)",
   "language": "python",
   "name": "python3"
  },
  "language_info": {
   "codemirror_mode": {
    "name": "ipython",
    "version": 3
   },
   "file_extension": ".py",
   "mimetype": "text/x-python",
   "name": "python",
   "nbconvert_exporter": "python",
   "pygments_lexer": "ipython3",
   "version": "3.11.7"
  }
 },
 "nbformat": 4,
 "nbformat_minor": 5
}
