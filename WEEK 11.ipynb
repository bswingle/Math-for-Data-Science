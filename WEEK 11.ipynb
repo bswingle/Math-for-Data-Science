{
 "cells": [
  {
   "cell_type": "code",
   "execution_count": 1,
   "id": "e6d827fa-2e59-4032-8238-02639dbbbeae",
   "metadata": {},
   "outputs": [],
   "source": [
    "from scipy.stats import binom\n",
    "import math\n",
    "import numpy as np\n",
    "import matplotlib.pyplot as plt"
   ]
  },
  {
   "cell_type": "code",
   "execution_count": 2,
   "id": "1eabf315-8de8-45d8-aee0-659888a0bfb4",
   "metadata": {},
   "outputs": [],
   "source": [
    "n = 15\n",
    "p = 0.63"
   ]
  },
  {
   "cell_type": "code",
   "execution_count": 3,
   "id": "d530a3d9-467a-41b2-8b81-eec2ede4daf1",
   "metadata": {},
   "outputs": [],
   "source": [
    "ensemble_accuracy = sum(binom.pmf(k, n, p) for k in range(8, n + 1))"
   ]
  },
  {
   "cell_type": "code",
   "execution_count": 4,
   "id": "ce1a3a0a-8215-4462-a316-e9afef7355dd",
   "metadata": {},
   "outputs": [
    {
     "name": "stdout",
     "output_type": "stream",
     "text": [
      "Ensemble model accuracy: 0.8513\n"
     ]
    }
   ],
   "source": [
    "print(f\"Ensemble model accuracy: {ensemble_accuracy:.4f}\")"
   ]
  },
  {
   "cell_type": "code",
   "execution_count": 5,
   "id": "f2a918cf-5c42-4a90-9c94-fcd275ba9c85",
   "metadata": {},
   "outputs": [],
   "source": [
    "def ensemble_accuracy(p, n=15):\n",
    "    return sum(binom.pmf(k, n, p) for k in range(8, n + 1))"
   ]
  },
  {
   "cell_type": "code",
   "execution_count": 6,
   "id": "5a02dd77-e585-4b6f-a783-f2f9258d107f",
   "metadata": {},
   "outputs": [],
   "source": [
    "low, high = 0.0, 1.0\n",
    "tolerance = 1e-6\n",
    "target_accuracy = 0.95"
   ]
  },
  {
   "cell_type": "code",
   "execution_count": 7,
   "id": "132c4a4f-eef7-46ab-aa67-50d73d2db24b",
   "metadata": {},
   "outputs": [],
   "source": [
    "while high - low > tolerance:\n",
    "    mid = (low + high) / 2\n",
    "    if ensemble_accuracy(mid) < target_accuracy:\n",
    "        low = mid\n",
    "    else:\n",
    "        high = mid"
   ]
  },
  {
   "cell_type": "code",
   "execution_count": 8,
   "id": "31740345-ccf9-4d9c-9670-441090ee907a",
   "metadata": {},
   "outputs": [],
   "source": [
    "individual_accuracy = int(high * 100)"
   ]
  },
  {
   "cell_type": "code",
   "execution_count": 9,
   "id": "e951ade0-e254-4aa1-bf02-0fe0eeac4404",
   "metadata": {},
   "outputs": [],
   "source": [
    "while ensemble_accuracy(individual_accuracy / 100) >= target_accuracy:\n",
    "    individual_accuracy -= 1"
   ]
  },
  {
   "cell_type": "code",
   "execution_count": 10,
   "id": "f669bfda-ff8a-40a1-aab6-9d7130950d45",
   "metadata": {},
   "outputs": [],
   "source": [
    "individual_accuracy += 1"
   ]
  },
  {
   "cell_type": "code",
   "execution_count": 11,
   "id": "b5f33c20-659d-4220-9c1c-79354e10f983",
   "metadata": {},
   "outputs": [
    {
     "name": "stdout",
     "output_type": "stream",
     "text": [
      "Smallest whole number percentage accuracy: 71%\n"
     ]
    }
   ],
   "source": [
    "print(f\"Smallest whole number percentage accuracy: {individual_accuracy}%\")"
   ]
  },
  {
   "cell_type": "code",
   "execution_count": 12,
   "id": "20b4ce52-f768-40c0-b54a-2cc67ea1966f",
   "metadata": {},
   "outputs": [],
   "source": [
    "def binomial_probability(n, p, k):\n",
    "    prob = 0\n",
    "    for i in range(k, n+1):\n",
    "        prob += math.comb(n, i) * (p ** i) * ((1 - p) ** (n - i))\n",
    "    return prob"
   ]
  },
  {
   "cell_type": "code",
   "execution_count": 13,
   "id": "ce16ab31-0d5a-436e-8f28-a421cc1d97de",
   "metadata": {},
   "outputs": [],
   "source": [
    "def find_smallest_odd_number_of_models(p, target_accuracy):\n",
    "    n = 1\n",
    "    while True:\n",
    "        k = target_accuracy * n\n",
    "        if k > (n + 1) / 2:\n",
    "            return n\n",
    "        n += 2"
   ]
  },
  {
   "cell_type": "code",
   "execution_count": 14,
   "id": "d2b2175f-8fe5-444d-bd8b-90ae7525a119",
   "metadata": {},
   "outputs": [],
   "source": [
    "individual_model_accuracy = 0.63\n",
    "target_accuracy = 0.95"
   ]
  },
  {
   "cell_type": "code",
   "execution_count": 15,
   "id": "ea7e922d-8a43-4dbb-9861-f35a71120b54",
   "metadata": {},
   "outputs": [
    {
     "name": "stdout",
     "output_type": "stream",
     "text": [
      "Smallest odd number of models needed: 3\n"
     ]
    }
   ],
   "source": [
    "smallest_odd_number_of_models = find_smallest_odd_number_of_models(individual_model_accuracy, target_accuracy)\n",
    "print(\"Smallest odd number of models needed:\", smallest_odd_number_of_models)"
   ]
  },
  {
   "cell_type": "code",
   "execution_count": 16,
   "id": "62ab2d2d-6698-45f6-bb5c-538e6daef0cc",
   "metadata": {},
   "outputs": [],
   "source": [
    "def pmf_X(x):\n",
    "    if x == 1:\n",
    "        return 0.1\n",
    "    elif x == 2:\n",
    "        return 0.2\n",
    "    elif x == 3:\n",
    "        return 0.3\n",
    "    elif x == 4:\n",
    "        return 0.2\n",
    "    elif x == 5:\n",
    "        return 0.2\n",
    "    else:\n",
    "        return 0"
   ]
  },
  {
   "cell_type": "code",
   "execution_count": 17,
   "id": "9178026c-61ac-4cbc-a2c3-8f643d93249d",
   "metadata": {},
   "outputs": [
    {
     "name": "stdout",
     "output_type": "stream",
     "text": [
      "P(X = 1) = 0.1\n",
      "P(X = 2) = 0.2\n",
      "P(X = 3) = 0.3\n",
      "P(X = 4) = 0.2\n",
      "P(X = 5) = 0.2\n"
     ]
    }
   ],
   "source": [
    "for i in range(1, 6):\n",
    "    print(f\"P(X = {i}) = {pmf_X(i)}\")"
   ]
  },
  {
   "cell_type": "code",
   "execution_count": 18,
   "id": "f56898f5-ae8e-49dc-9790-acae7de06d9f",
   "metadata": {},
   "outputs": [],
   "source": [
    "def pmf_X(x):\n",
    "    if x == 1:\n",
    "        return 0.1\n",
    "    elif x == 2:\n",
    "        return 0.2\n",
    "    elif x == 3:\n",
    "        return 0.3\n",
    "    elif x == 4:\n",
    "        return 0.2\n",
    "    elif x == 5:\n",
    "        return 0.2\n",
    "    else:\n",
    "        return 0"
   ]
  },
  {
   "cell_type": "code",
   "execution_count": 19,
   "id": "74edc7b3-5365-4a5d-a9fb-7258bae95fc1",
   "metadata": {},
   "outputs": [],
   "source": [
    "def generate_random_X_values_and_mean():\n",
    "    X_values = np.random.choice([1, 2, 3, 4, 5], size=50, p=[pmf_X(1), pmf_X(2), pmf_X(3), pmf_X(4), pmf_X(5)])\n",
    "    mean_X = np.mean(X_values)\n",
    "    return mean_X"
   ]
  },
  {
   "cell_type": "code",
   "execution_count": 20,
   "id": "8da692ab-66b9-4a5c-9b4f-887d73261377",
   "metadata": {},
   "outputs": [
    {
     "name": "stdout",
     "output_type": "stream",
     "text": [
      "Mean of 50 random X-values: 3.26\n"
     ]
    }
   ],
   "source": [
    "mean_of_50_X_values = generate_random_X_values_and_mean()\n",
    "print(\"Mean of 50 random X-values:\", mean_of_50_X_values)"
   ]
  },
  {
   "cell_type": "code",
   "execution_count": 21,
   "id": "272a64fa-794a-4fe5-a742-ca66b6780074",
   "metadata": {},
   "outputs": [],
   "source": [
    "def simulate_mean_of_X_values():\n",
    "    means = []\n",
    "    for _ in range(1000):\n",
    "        mean_X = generate_random_X_values_and_mean()\n",
    "        means.append(mean_X)\n",
    "    return means"
   ]
  },
  {
   "cell_type": "code",
   "execution_count": 22,
   "id": "6b2803e1-98e7-4f77-bb23-3a63bb7f04b2",
   "metadata": {},
   "outputs": [
    {
     "name": "stdout",
     "output_type": "stream",
     "text": [
      "First 10 means from simulation: [3.14, 3.54, 2.86, 3.36, 3.22, 3.36, 3.08, 3.28, 3.14, 3.14]\n",
      "Total number of means: 1000\n"
     ]
    }
   ],
   "source": [
    "means_list = simulate_mean_of_X_values()\n",
    "print(\"First 10 means from simulation:\", means_list[:10])\n",
    "print(\"Total number of means:\", len(means_list))"
   ]
  },
  {
   "cell_type": "code",
   "execution_count": 23,
   "id": "d273dcfb-66c7-4968-9605-46d9e801e3b2",
   "metadata": {},
   "outputs": [
    {
     "data": {
      "image/png": "[encoded data removed]",
      "text/plain": [
       "<Figure size 640x480 with 1 Axes>"
      ]
     },
     "metadata": {},
     "output_type": "display_data"
    }
   ],
   "source": [
    "plt.hist(means_list, bins=30, edgecolor='black')\n",
    "plt.title('Histogram of Means of 1,000 Simulations')\n",
    "plt.xlabel('Mean')\n",
    "plt.ylabel('Frequency')\n",
    "plt.show()"
   ]
  },
  {
   "cell_type": "code",
   "execution_count": 24,
   "id": "c7cd7d3d-6cb2-4e37-a701-6d505c9afae4",
   "metadata": {},
   "outputs": [],
   "source": [
    "sample_mean = np.mean(means_list)\n",
    "sample_std_dev = np.std(means_list)"
   ]
  },
  {
   "cell_type": "code",
   "execution_count": 25,
   "id": "befcf5fe-bfe3-4693-b7bc-11833d26ebf8",
   "metadata": {},
   "outputs": [],
   "source": [
    "theoretical_mean = np.mean([1, 2, 3, 4, 5])\n",
    "theoretical_std_dev = np.std([1, 2, 3, 4, 5]) / np.sqrt(50)"
   ]
  },
  {
   "cell_type": "code",
   "execution_count": 26,
   "id": "ac94cf6c-e693-4512-9770-0cc74613fc4b",
   "metadata": {},
   "outputs": [
    {
     "name": "stdout",
     "output_type": "stream",
     "text": [
      "Sample mean: 3.2004200000000003\n",
      "Sample standard deviation: 0.1773815762699159\n",
      "Theoretical mean (population mean): 3.0\n",
      "Theoretical standard deviation (population std dev / sqrt(n)): 0.2\n"
     ]
    }
   ],
   "source": [
    "print(\"Sample mean:\", sample_mean)\n",
    "print(\"Sample standard deviation:\", sample_std_dev)\n",
    "print(\"Theoretical mean (population mean):\", theoretical_mean)\n",
    "print(\"Theoretical standard deviation (population std dev / sqrt(n)):\", theoretical_std_dev)"
   ]
  },
  {
   "cell_type": "code",
   "execution_count": null,
   "id": "2c013f89-ccb0-4c06-b153-e60d9df97e0f",
   "metadata": {},
   "outputs": [],
   "source": []
  }
 ],
 "metadata": {
  "kernelspec": {
   "display_name": "Python 3 (ipykernel)",
   "language": "python",
   "name": "python3"
  },
  "language_info": {
   "codemirror_mode": {
    "name": "ipython",
    "version": 3
   },
   "file_extension": ".py",
   "mimetype": "text/x-python",
   "name": "python",
   "nbconvert_exporter": "python",
   "pygments_lexer": "ipython3",
   "version": "3.11.7"
  }
 },
 "nbformat": 4,
 "nbformat_minor": 5
}
